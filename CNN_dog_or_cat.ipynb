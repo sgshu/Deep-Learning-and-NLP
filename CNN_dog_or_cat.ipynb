{
 "cells": [
  {
   "cell_type": "code",
   "execution_count": 1,
   "id": "a796794d",
   "metadata": {},
   "outputs": [],
   "source": [
    "import tensorflow as tf\n",
    "from keras.preprocessing.image import ImageDataGenerator"
   ]
  },
  {
   "cell_type": "code",
   "execution_count": 2,
   "id": "05f7e389",
   "metadata": {},
   "outputs": [
    {
     "data": {
      "text/plain": [
       "'2.9.1'"
      ]
     },
     "execution_count": 2,
     "metadata": {},
     "output_type": "execute_result"
    }
   ],
   "source": [
    "tf.__version__"
   ]
  },
  {
   "cell_type": "markdown",
   "id": "d11aa8ee",
   "metadata": {},
   "source": [
    "Part 1 - Data Preprocessing <br>\n",
    "Preprocessing the Training set"
   ]
  },
  {
   "cell_type": "code",
   "execution_count": 3,
   "id": "9baf7856",
   "metadata": {},
   "outputs": [
    {
     "name": "stdout",
     "output_type": "stream",
     "text": [
      "Found 8000 images belonging to 2 classes.\n"
     ]
    }
   ],
   "source": [
    "train_datagen = ImageDataGenerator(rescale = 1./255,\n",
    "                                   shear_range = 0.2,\n",
    "                                   zoom_range = 0.2,\n",
    "                                   horizontal_flip = True)\n",
    "training_set = train_datagen.flow_from_directory(\"C:\\\\Users\\\\shubh\\\\OneDrive\\\\Desktop\\\\FORE'21\\\\Term4\\\\DLNLP\\\\CNN Dataset\\\\training_set\",\n",
    "                                                 target_size = (64, 64),\n",
    "                                                 batch_size = 32,\n",
    "                                                 class_mode = 'binary')"
   ]
  },
  {
   "cell_type": "markdown",
   "id": "fd1ac938",
   "metadata": {},
   "source": [
    "Preprocessing the Test set"
   ]
  },
  {
   "cell_type": "code",
   "execution_count": 4,
   "id": "a8259df7",
   "metadata": {},
   "outputs": [
    {
     "name": "stdout",
     "output_type": "stream",
     "text": [
      "Found 2000 images belonging to 2 classes.\n"
     ]
    }
   ],
   "source": [
    "test_datagen = ImageDataGenerator(rescale = 1./255)\n",
    "test_set = test_datagen.flow_from_directory(\"C:\\\\Users\\\\shubh\\\\OneDrive\\\\Desktop\\\\FORE'21\\\\Term4\\\\DLNLP\\\\CNN Dataset\\\\test_set\",\n",
    "                                            target_size = (64, 64),\n",
    "                                            batch_size = 32,\n",
    "                                            class_mode = 'binary')"
   ]
  },
  {
   "cell_type": "markdown",
   "id": "b1f524d5",
   "metadata": {},
   "source": [
    "Part 2 - Building the CNN\n",
    "Initialising the CNN"
   ]
  },
  {
   "cell_type": "code",
   "execution_count": 5,
   "id": "9e8cc4db",
   "metadata": {},
   "outputs": [],
   "source": [
    "cnn = tf.keras.models.Sequential()"
   ]
  },
  {
   "cell_type": "markdown",
   "id": "2e853042",
   "metadata": {},
   "source": [
    "Step 1 - Convolution"
   ]
  },
  {
   "cell_type": "code",
   "execution_count": 6,
   "id": "4741533f",
   "metadata": {},
   "outputs": [],
   "source": [
    "cnn.add(tf.keras.layers.Conv2D(filters=32, kernel_size=3, activation='relu', input_shape=[64, 64, 3]))"
   ]
  },
  {
   "cell_type": "markdown",
   "id": "5d9e881f",
   "metadata": {},
   "source": [
    "Step 2 - Pooling"
   ]
  },
  {
   "cell_type": "code",
   "execution_count": 7,
   "id": "bc2c51b8",
   "metadata": {},
   "outputs": [],
   "source": [
    "cnn.add(tf.keras.layers.MaxPool2D(pool_size=2, strides=2))"
   ]
  },
  {
   "cell_type": "markdown",
   "id": "5386afc5",
   "metadata": {},
   "source": [
    "Adding a second convolutional layer"
   ]
  },
  {
   "cell_type": "code",
   "execution_count": 8,
   "id": "0db3e45e",
   "metadata": {},
   "outputs": [],
   "source": [
    "cnn.add(tf.keras.layers.Conv2D(filters=32, kernel_size=3, activation='relu'))\n",
    "cnn.add(tf.keras.layers.MaxPool2D(pool_size=2, strides=2))"
   ]
  },
  {
   "cell_type": "markdown",
   "id": "98a2226e",
   "metadata": {},
   "source": [
    "Step 3 - Flattening"
   ]
  },
  {
   "cell_type": "code",
   "execution_count": 9,
   "id": "d7a48995",
   "metadata": {},
   "outputs": [],
   "source": [
    "cnn.add(tf.keras.layers.Flatten())"
   ]
  },
  {
   "cell_type": "markdown",
   "id": "d964c349",
   "metadata": {},
   "source": [
    "Step 4 - Full Connection"
   ]
  },
  {
   "cell_type": "code",
   "execution_count": 10,
   "id": "56bea2c4",
   "metadata": {},
   "outputs": [],
   "source": [
    "cnn.add(tf.keras.layers.Dense(units=128, activation='relu'))"
   ]
  },
  {
   "cell_type": "markdown",
   "id": "76653329",
   "metadata": {},
   "source": [
    "Step 5 - Output Layer"
   ]
  },
  {
   "cell_type": "code",
   "execution_count": 12,
   "id": "41105045",
   "metadata": {},
   "outputs": [],
   "source": [
    "cnn.add(tf.keras.layers.Dense(units=1, activation='sigmoid'))"
   ]
  },
  {
   "cell_type": "markdown",
   "id": "177eab08",
   "metadata": {},
   "source": [
    "Part 3 - Training the CNN <br>\n",
    "Compiling the CNN"
   ]
  },
  {
   "cell_type": "code",
   "execution_count": 13,
   "id": "2a09654d",
   "metadata": {},
   "outputs": [],
   "source": [
    "cnn.compile(optimizer = 'adam', loss = 'binary_crossentropy', metrics = ['accuracy'])"
   ]
  },
  {
   "cell_type": "markdown",
   "id": "1ac21ab7",
   "metadata": {},
   "source": [
    "Training the CNN on the Training set and evaluating it on the Test set"
   ]
  },
  {
   "cell_type": "code",
   "execution_count": 14,
   "id": "0ecadef0",
   "metadata": {},
   "outputs": [
    {
     "name": "stdout",
     "output_type": "stream",
     "text": [
      "Epoch 1/25\n",
      "250/250 [==============================] - 48s 187ms/step - loss: 0.6790 - accuracy: 0.5776 - val_loss: 0.6171 - val_accuracy: 0.6710\n",
      "Epoch 2/25\n",
      "250/250 [==============================] - 43s 172ms/step - loss: 0.6102 - accuracy: 0.6754 - val_loss: 0.7079 - val_accuracy: 0.6000\n",
      "Epoch 3/25\n",
      "250/250 [==============================] - 43s 172ms/step - loss: 0.5682 - accuracy: 0.7059 - val_loss: 0.5641 - val_accuracy: 0.7120\n",
      "Epoch 4/25\n",
      "250/250 [==============================] - 44s 174ms/step - loss: 0.5324 - accuracy: 0.7301 - val_loss: 0.5360 - val_accuracy: 0.7360\n",
      "Epoch 5/25\n",
      "250/250 [==============================] - 43s 171ms/step - loss: 0.5161 - accuracy: 0.7464 - val_loss: 0.5065 - val_accuracy: 0.7510\n",
      "Epoch 6/25\n",
      "250/250 [==============================] - 43s 174ms/step - loss: 0.4949 - accuracy: 0.7605 - val_loss: 0.4930 - val_accuracy: 0.7715\n",
      "Epoch 7/25\n",
      "250/250 [==============================] - 44s 177ms/step - loss: 0.4740 - accuracy: 0.7739 - val_loss: 0.4785 - val_accuracy: 0.7875\n",
      "Epoch 8/25\n",
      "250/250 [==============================] - 43s 174ms/step - loss: 0.4590 - accuracy: 0.7776 - val_loss: 0.4607 - val_accuracy: 0.7910\n",
      "Epoch 9/25\n",
      "250/250 [==============================] - 43s 173ms/step - loss: 0.4400 - accuracy: 0.7885 - val_loss: 0.5106 - val_accuracy: 0.7640\n",
      "Epoch 10/25\n",
      "250/250 [==============================] - 46s 185ms/step - loss: 0.4334 - accuracy: 0.7952 - val_loss: 0.4522 - val_accuracy: 0.7945\n",
      "Epoch 11/25\n",
      "250/250 [==============================] - 46s 182ms/step - loss: 0.4278 - accuracy: 0.7970 - val_loss: 0.4459 - val_accuracy: 0.7955\n",
      "Epoch 12/25\n",
      "250/250 [==============================] - 43s 172ms/step - loss: 0.4201 - accuracy: 0.8030 - val_loss: 0.4414 - val_accuracy: 0.8005\n",
      "Epoch 13/25\n",
      "250/250 [==============================] - 57s 230ms/step - loss: 0.4007 - accuracy: 0.8145 - val_loss: 0.4493 - val_accuracy: 0.7915\n",
      "Epoch 14/25\n",
      "250/250 [==============================] - 56s 222ms/step - loss: 0.4000 - accuracy: 0.8206 - val_loss: 0.4446 - val_accuracy: 0.8010\n",
      "Epoch 15/25\n",
      "250/250 [==============================] - 49s 194ms/step - loss: 0.3826 - accuracy: 0.8231 - val_loss: 0.4915 - val_accuracy: 0.7880\n",
      "Epoch 16/25\n",
      "250/250 [==============================] - 47s 186ms/step - loss: 0.3758 - accuracy: 0.8289 - val_loss: 0.4725 - val_accuracy: 0.8025\n",
      "Epoch 17/25\n",
      "250/250 [==============================] - 45s 179ms/step - loss: 0.3674 - accuracy: 0.8356 - val_loss: 0.4402 - val_accuracy: 0.8100\n",
      "Epoch 18/25\n",
      "250/250 [==============================] - 47s 189ms/step - loss: 0.3582 - accuracy: 0.8397 - val_loss: 0.4448 - val_accuracy: 0.8050\n",
      "Epoch 19/25\n",
      "250/250 [==============================] - 46s 182ms/step - loss: 0.3440 - accuracy: 0.8465 - val_loss: 0.4640 - val_accuracy: 0.8080\n",
      "Epoch 20/25\n",
      "250/250 [==============================] - 45s 182ms/step - loss: 0.3387 - accuracy: 0.8504 - val_loss: 0.4360 - val_accuracy: 0.8140\n",
      "Epoch 21/25\n",
      "250/250 [==============================] - 55s 219ms/step - loss: 0.3279 - accuracy: 0.8506 - val_loss: 0.4744 - val_accuracy: 0.8080\n",
      "Epoch 22/25\n",
      "250/250 [==============================] - 48s 191ms/step - loss: 0.3328 - accuracy: 0.8524 - val_loss: 0.4443 - val_accuracy: 0.8015\n",
      "Epoch 23/25\n",
      "250/250 [==============================] - 44s 177ms/step - loss: 0.3303 - accuracy: 0.8525 - val_loss: 0.4515 - val_accuracy: 0.7965\n",
      "Epoch 24/25\n",
      "250/250 [==============================] - 45s 181ms/step - loss: 0.3077 - accuracy: 0.8639 - val_loss: 0.4877 - val_accuracy: 0.7905\n",
      "Epoch 25/25\n",
      "250/250 [==============================] - 48s 191ms/step - loss: 0.3014 - accuracy: 0.8709 - val_loss: 0.5112 - val_accuracy: 0.7785\n"
     ]
    },
    {
     "data": {
      "text/plain": [
       "<keras.callbacks.History at 0x162812c42b0>"
      ]
     },
     "execution_count": 14,
     "metadata": {},
     "output_type": "execute_result"
    }
   ],
   "source": [
    "cnn.fit(x = training_set, validation_data = test_set, epochs = 25)"
   ]
  },
  {
   "cell_type": "markdown",
   "id": "17549286",
   "metadata": {},
   "source": [
    "Part 4 - Making a single prediction"
   ]
  },
  {
   "cell_type": "code",
   "execution_count": 16,
   "id": "f3a35418",
   "metadata": {},
   "outputs": [
    {
     "name": "stdout",
     "output_type": "stream",
     "text": [
      "1/1 [==============================] - 0s 148ms/step\n"
     ]
    }
   ],
   "source": [
    "import numpy as np\n",
    "from tensorflow.keras.preprocessing import image\n",
    "test_image = image.load_img(\"C:\\\\Users\\\\shubh\\\\OneDrive\\\\Desktop\\\\FORE'21\\\\Term4\\\\DLNLP\\\\CNN Dataset\\\\single_prediction\\\\cat_or_dog_2.jpg\", target_size = (64, 64))\n",
    "test_image = image.img_to_array(test_image)\n",
    "test_image = np.expand_dims(test_image, axis = 0)\n",
    "result = cnn.predict(test_image)\n",
    "training_set.class_indices\n",
    "if result[0][0] == 1:\n",
    "  prediction = 'dog'\n",
    "else:\n",
    "  prediction = 'cat'"
   ]
  },
  {
   "cell_type": "code",
   "execution_count": 17,
   "id": "d253a69b",
   "metadata": {},
   "outputs": [
    {
     "name": "stdout",
     "output_type": "stream",
     "text": [
      "dog\n"
     ]
    }
   ],
   "source": [
    "print(prediction)"
   ]
  },
  {
   "cell_type": "code",
   "execution_count": 18,
   "id": "7100493c",
   "metadata": {},
   "outputs": [
    {
     "name": "stdout",
     "output_type": "stream",
     "text": [
      "1/1 [==============================] - 0s 20ms/step\n"
     ]
    }
   ],
   "source": [
    "import numpy as np\n",
    "from tensorflow.keras.preprocessing import image\n",
    "test_image = image.load_img(\"C:\\\\Users\\\\shubh\\\\OneDrive\\\\Desktop\\\\FORE'21\\\\Term4\\\\DLNLP\\\\CNN Dataset\\\\single_prediction\\\\cat_or_dog_1.jpg\", target_size = (64, 64))\n",
    "test_image = image.img_to_array(test_image)\n",
    "test_image = np.expand_dims(test_image, axis = 0)\n",
    "result = cnn.predict(test_image)\n",
    "training_set.class_indices\n",
    "if result[0][0] == 1:\n",
    "  prediction = 'dog'\n",
    "else:\n",
    "  prediction = 'cat'"
   ]
  },
  {
   "cell_type": "code",
   "execution_count": 19,
   "id": "d8760d29",
   "metadata": {},
   "outputs": [
    {
     "name": "stdout",
     "output_type": "stream",
     "text": [
      "dog\n"
     ]
    }
   ],
   "source": [
    "print(prediction)"
   ]
  },
  {
   "cell_type": "code",
   "execution_count": null,
   "id": "342e68da",
   "metadata": {},
   "outputs": [],
   "source": []
  }
 ],
 "metadata": {
  "kernelspec": {
   "display_name": "Python 3 (ipykernel)",
   "language": "python",
   "name": "python3"
  },
  "language_info": {
   "codemirror_mode": {
    "name": "ipython",
    "version": 3
   },
   "file_extension": ".py",
   "mimetype": "text/x-python",
   "name": "python",
   "nbconvert_exporter": "python",
   "pygments_lexer": "ipython3",
   "version": "3.9.12"
  }
 },
 "nbformat": 4,
 "nbformat_minor": 5
}
